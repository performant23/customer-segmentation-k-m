{
  "cells": [
    {
      "cell_type": "markdown",
      "metadata": {
        "id": "view-in-github",
        "colab_type": "text"
      },
      "source": [
        "<a href=\"https://colab.research.google.com/github/performant23/customer-segmentation-k-m/blob/main/Model_Customer_Segmentation_with_K_means_clustering.ipynb\" target=\"_parent\"><img src=\"https://colab.research.google.com/assets/colab-badge.svg\" alt=\"Open In Colab\"/></a>"
      ]
    },
    {
      "cell_type": "markdown",
      "id": "f336bb84",
      "metadata": {
        "id": "f336bb84"
      },
      "source": [
        "Source Credit - https://www.kaggle.com/datasets/somesh24/customer-segmentation"
      ]
    },
    {
      "cell_type": "markdown",
      "id": "06d42f34",
      "metadata": {
        "id": "06d42f34"
      },
      "source": [
        "In this notebook, we aim to segment customers using k-means clustering algorithm which finds centroids of clusters and based on proximity of data points, determines optimal number of clusters. The dataset is taken from Kaggle. We use the elbow method to determine optimal number of clusters and use metric scores like silhouette scores to determine the performance of the algorithm. We will also use Expectation-maximization (EM) algorithm to cluster the data and compare the accuracy score (silhouette score) with k-means."
      ]
    },
    {
      "cell_type": "code",
      "execution_count": null,
      "id": "e4aea258",
      "metadata": {
        "id": "e4aea258"
      },
      "outputs": [],
      "source": [
        "#Importing necessary libraries\n",
        "import numpy as np\n",
        "import pandas as pd\n",
        "import matplotlib.pyplot as plt\n",
        "from sklearn.preprocessing import StandardScaler\n",
        "from sklearn.cluster import KMeans\n",
        "from sklearn.metrics import silhouette_score\n",
        "from sklearn.mixture import GaussianMixture\n",
        "%matplotlib inline"
      ]
    },
    {
      "cell_type": "code",
      "source": [
        "from google.colab import drive\n",
        "drive.mount('/content/drive')"
      ],
      "metadata": {
        "colab": {
          "base_uri": "https://localhost:8080/"
        },
        "id": "J9JW0rLx5cXn",
        "outputId": "c72ef61d-e55d-4c0b-e458-00057a17bd5b"
      },
      "id": "J9JW0rLx5cXn",
      "execution_count": null,
      "outputs": [
        {
          "output_type": "stream",
          "name": "stdout",
          "text": [
            "Mounted at /content/drive\n"
          ]
        }
      ]
    },
    {
      "cell_type": "code",
      "execution_count": null,
      "id": "61a48711",
      "metadata": {
        "colab": {
          "base_uri": "https://localhost:8080/",
          "height": 424
        },
        "id": "61a48711",
        "outputId": "05143b02-6722-4eab-9c71-39f2fd200d8b"
      },
      "outputs": [
        {
          "output_type": "execute_result",
          "data": {
            "text/plain": [
              "     Customer Id  Age  Edu  Years Employed  Income  Card Debt  Other Debt  \\\n",
              "0              1   41    2               6      19      0.124       1.073   \n",
              "1              2   47    1              26     100      4.582       8.218   \n",
              "2              3   33    2              10      57      6.111       5.802   \n",
              "3              4   29    2               4      19      0.681       0.516   \n",
              "4              5   47    1              31     253      9.308       8.908   \n",
              "..           ...  ...  ...             ...     ...        ...         ...   \n",
              "845          846   27    1               5      26      0.548       1.220   \n",
              "846          847   28    2               7      34      0.359       2.021   \n",
              "847          848   25    4               0      18      2.802       3.210   \n",
              "848          849   32    1              12      28      0.116       0.696   \n",
              "849          850   52    1              16      64      1.866       3.638   \n",
              "\n",
              "     Defaulted Address  DebtIncomeRatio  \n",
              "0          0.0  NBA001              6.3  \n",
              "1          0.0  NBA021             12.8  \n",
              "2          1.0  NBA013             20.9  \n",
              "3          0.0  NBA009              6.3  \n",
              "4          0.0  NBA008              7.2  \n",
              "..         ...     ...              ...  \n",
              "845        NaN  NBA007              6.8  \n",
              "846        0.0  NBA002              7.0  \n",
              "847        1.0  NBA001             33.4  \n",
              "848        0.0  NBA012              2.9  \n",
              "849        0.0  NBA025              8.6  \n",
              "\n",
              "[850 rows x 10 columns]"
            ],
            "text/html": [
              "\n",
              "  <div id=\"df-29c5ebe2-d9d8-4125-93b8-aa8b9c279b66\">\n",
              "    <div class=\"colab-df-container\">\n",
              "      <div>\n",
              "<style scoped>\n",
              "    .dataframe tbody tr th:only-of-type {\n",
              "        vertical-align: middle;\n",
              "    }\n",
              "\n",
              "    .dataframe tbody tr th {\n",
              "        vertical-align: top;\n",
              "    }\n",
              "\n",
              "    .dataframe thead th {\n",
              "        text-align: right;\n",
              "    }\n",
              "</style>\n",
              "<table border=\"1\" class=\"dataframe\">\n",
              "  <thead>\n",
              "    <tr style=\"text-align: right;\">\n",
              "      <th></th>\n",
              "      <th>Customer Id</th>\n",
              "      <th>Age</th>\n",
              "      <th>Edu</th>\n",
              "      <th>Years Employed</th>\n",
              "      <th>Income</th>\n",
              "      <th>Card Debt</th>\n",
              "      <th>Other Debt</th>\n",
              "      <th>Defaulted</th>\n",
              "      <th>Address</th>\n",
              "      <th>DebtIncomeRatio</th>\n",
              "    </tr>\n",
              "  </thead>\n",
              "  <tbody>\n",
              "    <tr>\n",
              "      <th>0</th>\n",
              "      <td>1</td>\n",
              "      <td>41</td>\n",
              "      <td>2</td>\n",
              "      <td>6</td>\n",
              "      <td>19</td>\n",
              "      <td>0.124</td>\n",
              "      <td>1.073</td>\n",
              "      <td>0.0</td>\n",
              "      <td>NBA001</td>\n",
              "      <td>6.3</td>\n",
              "    </tr>\n",
              "    <tr>\n",
              "      <th>1</th>\n",
              "      <td>2</td>\n",
              "      <td>47</td>\n",
              "      <td>1</td>\n",
              "      <td>26</td>\n",
              "      <td>100</td>\n",
              "      <td>4.582</td>\n",
              "      <td>8.218</td>\n",
              "      <td>0.0</td>\n",
              "      <td>NBA021</td>\n",
              "      <td>12.8</td>\n",
              "    </tr>\n",
              "    <tr>\n",
              "      <th>2</th>\n",
              "      <td>3</td>\n",
              "      <td>33</td>\n",
              "      <td>2</td>\n",
              "      <td>10</td>\n",
              "      <td>57</td>\n",
              "      <td>6.111</td>\n",
              "      <td>5.802</td>\n",
              "      <td>1.0</td>\n",
              "      <td>NBA013</td>\n",
              "      <td>20.9</td>\n",
              "    </tr>\n",
              "    <tr>\n",
              "      <th>3</th>\n",
              "      <td>4</td>\n",
              "      <td>29</td>\n",
              "      <td>2</td>\n",
              "      <td>4</td>\n",
              "      <td>19</td>\n",
              "      <td>0.681</td>\n",
              "      <td>0.516</td>\n",
              "      <td>0.0</td>\n",
              "      <td>NBA009</td>\n",
              "      <td>6.3</td>\n",
              "    </tr>\n",
              "    <tr>\n",
              "      <th>4</th>\n",
              "      <td>5</td>\n",
              "      <td>47</td>\n",
              "      <td>1</td>\n",
              "      <td>31</td>\n",
              "      <td>253</td>\n",
              "      <td>9.308</td>\n",
              "      <td>8.908</td>\n",
              "      <td>0.0</td>\n",
              "      <td>NBA008</td>\n",
              "      <td>7.2</td>\n",
              "    </tr>\n",
              "    <tr>\n",
              "      <th>...</th>\n",
              "      <td>...</td>\n",
              "      <td>...</td>\n",
              "      <td>...</td>\n",
              "      <td>...</td>\n",
              "      <td>...</td>\n",
              "      <td>...</td>\n",
              "      <td>...</td>\n",
              "      <td>...</td>\n",
              "      <td>...</td>\n",
              "      <td>...</td>\n",
              "    </tr>\n",
              "    <tr>\n",
              "      <th>845</th>\n",
              "      <td>846</td>\n",
              "      <td>27</td>\n",
              "      <td>1</td>\n",
              "      <td>5</td>\n",
              "      <td>26</td>\n",
              "      <td>0.548</td>\n",
              "      <td>1.220</td>\n",
              "      <td>NaN</td>\n",
              "      <td>NBA007</td>\n",
              "      <td>6.8</td>\n",
              "    </tr>\n",
              "    <tr>\n",
              "      <th>846</th>\n",
              "      <td>847</td>\n",
              "      <td>28</td>\n",
              "      <td>2</td>\n",
              "      <td>7</td>\n",
              "      <td>34</td>\n",
              "      <td>0.359</td>\n",
              "      <td>2.021</td>\n",
              "      <td>0.0</td>\n",
              "      <td>NBA002</td>\n",
              "      <td>7.0</td>\n",
              "    </tr>\n",
              "    <tr>\n",
              "      <th>847</th>\n",
              "      <td>848</td>\n",
              "      <td>25</td>\n",
              "      <td>4</td>\n",
              "      <td>0</td>\n",
              "      <td>18</td>\n",
              "      <td>2.802</td>\n",
              "      <td>3.210</td>\n",
              "      <td>1.0</td>\n",
              "      <td>NBA001</td>\n",
              "      <td>33.4</td>\n",
              "    </tr>\n",
              "    <tr>\n",
              "      <th>848</th>\n",
              "      <td>849</td>\n",
              "      <td>32</td>\n",
              "      <td>1</td>\n",
              "      <td>12</td>\n",
              "      <td>28</td>\n",
              "      <td>0.116</td>\n",
              "      <td>0.696</td>\n",
              "      <td>0.0</td>\n",
              "      <td>NBA012</td>\n",
              "      <td>2.9</td>\n",
              "    </tr>\n",
              "    <tr>\n",
              "      <th>849</th>\n",
              "      <td>850</td>\n",
              "      <td>52</td>\n",
              "      <td>1</td>\n",
              "      <td>16</td>\n",
              "      <td>64</td>\n",
              "      <td>1.866</td>\n",
              "      <td>3.638</td>\n",
              "      <td>0.0</td>\n",
              "      <td>NBA025</td>\n",
              "      <td>8.6</td>\n",
              "    </tr>\n",
              "  </tbody>\n",
              "</table>\n",
              "<p>850 rows × 10 columns</p>\n",
              "</div>\n",
              "      <button class=\"colab-df-convert\" onclick=\"convertToInteractive('df-29c5ebe2-d9d8-4125-93b8-aa8b9c279b66')\"\n",
              "              title=\"Convert this dataframe to an interactive table.\"\n",
              "              style=\"display:none;\">\n",
              "        \n",
              "  <svg xmlns=\"http://www.w3.org/2000/svg\" height=\"24px\"viewBox=\"0 0 24 24\"\n",
              "       width=\"24px\">\n",
              "    <path d=\"M0 0h24v24H0V0z\" fill=\"none\"/>\n",
              "    <path d=\"M18.56 5.44l.94 2.06.94-2.06 2.06-.94-2.06-.94-.94-2.06-.94 2.06-2.06.94zm-11 1L8.5 8.5l.94-2.06 2.06-.94-2.06-.94L8.5 2.5l-.94 2.06-2.06.94zm10 10l.94 2.06.94-2.06 2.06-.94-2.06-.94-.94-2.06-.94 2.06-2.06.94z\"/><path d=\"M17.41 7.96l-1.37-1.37c-.4-.4-.92-.59-1.43-.59-.52 0-1.04.2-1.43.59L10.3 9.45l-7.72 7.72c-.78.78-.78 2.05 0 2.83L4 21.41c.39.39.9.59 1.41.59.51 0 1.02-.2 1.41-.59l7.78-7.78 2.81-2.81c.8-.78.8-2.07 0-2.86zM5.41 20L4 18.59l7.72-7.72 1.47 1.35L5.41 20z\"/>\n",
              "  </svg>\n",
              "      </button>\n",
              "      \n",
              "  <style>\n",
              "    .colab-df-container {\n",
              "      display:flex;\n",
              "      flex-wrap:wrap;\n",
              "      gap: 12px;\n",
              "    }\n",
              "\n",
              "    .colab-df-convert {\n",
              "      background-color: #E8F0FE;\n",
              "      border: none;\n",
              "      border-radius: 50%;\n",
              "      cursor: pointer;\n",
              "      display: none;\n",
              "      fill: #1967D2;\n",
              "      height: 32px;\n",
              "      padding: 0 0 0 0;\n",
              "      width: 32px;\n",
              "    }\n",
              "\n",
              "    .colab-df-convert:hover {\n",
              "      background-color: #E2EBFA;\n",
              "      box-shadow: 0px 1px 2px rgba(60, 64, 67, 0.3), 0px 1px 3px 1px rgba(60, 64, 67, 0.15);\n",
              "      fill: #174EA6;\n",
              "    }\n",
              "\n",
              "    [theme=dark] .colab-df-convert {\n",
              "      background-color: #3B4455;\n",
              "      fill: #D2E3FC;\n",
              "    }\n",
              "\n",
              "    [theme=dark] .colab-df-convert:hover {\n",
              "      background-color: #434B5C;\n",
              "      box-shadow: 0px 1px 3px 1px rgba(0, 0, 0, 0.15);\n",
              "      filter: drop-shadow(0px 1px 2px rgba(0, 0, 0, 0.3));\n",
              "      fill: #FFFFFF;\n",
              "    }\n",
              "  </style>\n",
              "\n",
              "      <script>\n",
              "        const buttonEl =\n",
              "          document.querySelector('#df-29c5ebe2-d9d8-4125-93b8-aa8b9c279b66 button.colab-df-convert');\n",
              "        buttonEl.style.display =\n",
              "          google.colab.kernel.accessAllowed ? 'block' : 'none';\n",
              "\n",
              "        async function convertToInteractive(key) {\n",
              "          const element = document.querySelector('#df-29c5ebe2-d9d8-4125-93b8-aa8b9c279b66');\n",
              "          const dataTable =\n",
              "            await google.colab.kernel.invokeFunction('convertToInteractive',\n",
              "                                                     [key], {});\n",
              "          if (!dataTable) return;\n",
              "\n",
              "          const docLinkHtml = 'Like what you see? Visit the ' +\n",
              "            '<a target=\"_blank\" href=https://colab.research.google.com/notebooks/data_table.ipynb>data table notebook</a>'\n",
              "            + ' to learn more about interactive tables.';\n",
              "          element.innerHTML = '';\n",
              "          dataTable['output_type'] = 'display_data';\n",
              "          await google.colab.output.renderOutput(dataTable, element);\n",
              "          const docLink = document.createElement('div');\n",
              "          docLink.innerHTML = docLinkHtml;\n",
              "          element.appendChild(docLink);\n",
              "        }\n",
              "      </script>\n",
              "    </div>\n",
              "  </div>\n",
              "  "
            ]
          },
          "metadata": {},
          "execution_count": 8
        }
      ],
      "source": [
        "#Obtaining data as a pandas dataframe\n",
        "data = pd.read_csv('/content/drive/MyDrive/Colab Notebooks/Cust_Segmentation.csv')\n",
        "data\n"
      ]
    },
    {
      "cell_type": "markdown",
      "source": [
        "Now, we can get started with preprocessing the data. We can drop the columns, Customer Id and Address because they seem to give little information about the type of customers (There are too many values of address, that could potentially overfit the data)"
      ],
      "metadata": {
        "id": "q22U5I5x6IbN"
      },
      "id": "q22U5I5x6IbN"
    },
    {
      "cell_type": "code",
      "execution_count": null,
      "id": "dfd55998",
      "metadata": {
        "colab": {
          "base_uri": "https://localhost:8080/",
          "height": 424
        },
        "id": "dfd55998",
        "outputId": "63c07258-f2a6-4c4a-abed-33cc0c67cd45"
      },
      "outputs": [
        {
          "output_type": "execute_result",
          "data": {
            "text/plain": [
              "     Age  Edu  Years Employed  Income  Card Debt  Other Debt  Defaulted  \\\n",
              "0     41    2               6      19      0.124       1.073        0.0   \n",
              "1     47    1              26     100      4.582       8.218        0.0   \n",
              "2     33    2              10      57      6.111       5.802        1.0   \n",
              "3     29    2               4      19      0.681       0.516        0.0   \n",
              "4     47    1              31     253      9.308       8.908        0.0   \n",
              "..   ...  ...             ...     ...        ...         ...        ...   \n",
              "844   41    1               7      43      0.694       1.198        0.0   \n",
              "846   28    2               7      34      0.359       2.021        0.0   \n",
              "847   25    4               0      18      2.802       3.210        1.0   \n",
              "848   32    1              12      28      0.116       0.696        0.0   \n",
              "849   52    1              16      64      1.866       3.638        0.0   \n",
              "\n",
              "     DebtIncomeRatio  \n",
              "0                6.3  \n",
              "1               12.8  \n",
              "2               20.9  \n",
              "3                6.3  \n",
              "4                7.2  \n",
              "..               ...  \n",
              "844              4.4  \n",
              "846              7.0  \n",
              "847             33.4  \n",
              "848              2.9  \n",
              "849              8.6  \n",
              "\n",
              "[700 rows x 8 columns]"
            ],
            "text/html": [
              "\n",
              "  <div id=\"df-a1d7f44e-9d84-4c64-b861-e52760e344f8\">\n",
              "    <div class=\"colab-df-container\">\n",
              "      <div>\n",
              "<style scoped>\n",
              "    .dataframe tbody tr th:only-of-type {\n",
              "        vertical-align: middle;\n",
              "    }\n",
              "\n",
              "    .dataframe tbody tr th {\n",
              "        vertical-align: top;\n",
              "    }\n",
              "\n",
              "    .dataframe thead th {\n",
              "        text-align: right;\n",
              "    }\n",
              "</style>\n",
              "<table border=\"1\" class=\"dataframe\">\n",
              "  <thead>\n",
              "    <tr style=\"text-align: right;\">\n",
              "      <th></th>\n",
              "      <th>Age</th>\n",
              "      <th>Edu</th>\n",
              "      <th>Years Employed</th>\n",
              "      <th>Income</th>\n",
              "      <th>Card Debt</th>\n",
              "      <th>Other Debt</th>\n",
              "      <th>Defaulted</th>\n",
              "      <th>DebtIncomeRatio</th>\n",
              "    </tr>\n",
              "  </thead>\n",
              "  <tbody>\n",
              "    <tr>\n",
              "      <th>0</th>\n",
              "      <td>41</td>\n",
              "      <td>2</td>\n",
              "      <td>6</td>\n",
              "      <td>19</td>\n",
              "      <td>0.124</td>\n",
              "      <td>1.073</td>\n",
              "      <td>0.0</td>\n",
              "      <td>6.3</td>\n",
              "    </tr>\n",
              "    <tr>\n",
              "      <th>1</th>\n",
              "      <td>47</td>\n",
              "      <td>1</td>\n",
              "      <td>26</td>\n",
              "      <td>100</td>\n",
              "      <td>4.582</td>\n",
              "      <td>8.218</td>\n",
              "      <td>0.0</td>\n",
              "      <td>12.8</td>\n",
              "    </tr>\n",
              "    <tr>\n",
              "      <th>2</th>\n",
              "      <td>33</td>\n",
              "      <td>2</td>\n",
              "      <td>10</td>\n",
              "      <td>57</td>\n",
              "      <td>6.111</td>\n",
              "      <td>5.802</td>\n",
              "      <td>1.0</td>\n",
              "      <td>20.9</td>\n",
              "    </tr>\n",
              "    <tr>\n",
              "      <th>3</th>\n",
              "      <td>29</td>\n",
              "      <td>2</td>\n",
              "      <td>4</td>\n",
              "      <td>19</td>\n",
              "      <td>0.681</td>\n",
              "      <td>0.516</td>\n",
              "      <td>0.0</td>\n",
              "      <td>6.3</td>\n",
              "    </tr>\n",
              "    <tr>\n",
              "      <th>4</th>\n",
              "      <td>47</td>\n",
              "      <td>1</td>\n",
              "      <td>31</td>\n",
              "      <td>253</td>\n",
              "      <td>9.308</td>\n",
              "      <td>8.908</td>\n",
              "      <td>0.0</td>\n",
              "      <td>7.2</td>\n",
              "    </tr>\n",
              "    <tr>\n",
              "      <th>...</th>\n",
              "      <td>...</td>\n",
              "      <td>...</td>\n",
              "      <td>...</td>\n",
              "      <td>...</td>\n",
              "      <td>...</td>\n",
              "      <td>...</td>\n",
              "      <td>...</td>\n",
              "      <td>...</td>\n",
              "    </tr>\n",
              "    <tr>\n",
              "      <th>844</th>\n",
              "      <td>41</td>\n",
              "      <td>1</td>\n",
              "      <td>7</td>\n",
              "      <td>43</td>\n",
              "      <td>0.694</td>\n",
              "      <td>1.198</td>\n",
              "      <td>0.0</td>\n",
              "      <td>4.4</td>\n",
              "    </tr>\n",
              "    <tr>\n",
              "      <th>846</th>\n",
              "      <td>28</td>\n",
              "      <td>2</td>\n",
              "      <td>7</td>\n",
              "      <td>34</td>\n",
              "      <td>0.359</td>\n",
              "      <td>2.021</td>\n",
              "      <td>0.0</td>\n",
              "      <td>7.0</td>\n",
              "    </tr>\n",
              "    <tr>\n",
              "      <th>847</th>\n",
              "      <td>25</td>\n",
              "      <td>4</td>\n",
              "      <td>0</td>\n",
              "      <td>18</td>\n",
              "      <td>2.802</td>\n",
              "      <td>3.210</td>\n",
              "      <td>1.0</td>\n",
              "      <td>33.4</td>\n",
              "    </tr>\n",
              "    <tr>\n",
              "      <th>848</th>\n",
              "      <td>32</td>\n",
              "      <td>1</td>\n",
              "      <td>12</td>\n",
              "      <td>28</td>\n",
              "      <td>0.116</td>\n",
              "      <td>0.696</td>\n",
              "      <td>0.0</td>\n",
              "      <td>2.9</td>\n",
              "    </tr>\n",
              "    <tr>\n",
              "      <th>849</th>\n",
              "      <td>52</td>\n",
              "      <td>1</td>\n",
              "      <td>16</td>\n",
              "      <td>64</td>\n",
              "      <td>1.866</td>\n",
              "      <td>3.638</td>\n",
              "      <td>0.0</td>\n",
              "      <td>8.6</td>\n",
              "    </tr>\n",
              "  </tbody>\n",
              "</table>\n",
              "<p>700 rows × 8 columns</p>\n",
              "</div>\n",
              "      <button class=\"colab-df-convert\" onclick=\"convertToInteractive('df-a1d7f44e-9d84-4c64-b861-e52760e344f8')\"\n",
              "              title=\"Convert this dataframe to an interactive table.\"\n",
              "              style=\"display:none;\">\n",
              "        \n",
              "  <svg xmlns=\"http://www.w3.org/2000/svg\" height=\"24px\"viewBox=\"0 0 24 24\"\n",
              "       width=\"24px\">\n",
              "    <path d=\"M0 0h24v24H0V0z\" fill=\"none\"/>\n",
              "    <path d=\"M18.56 5.44l.94 2.06.94-2.06 2.06-.94-2.06-.94-.94-2.06-.94 2.06-2.06.94zm-11 1L8.5 8.5l.94-2.06 2.06-.94-2.06-.94L8.5 2.5l-.94 2.06-2.06.94zm10 10l.94 2.06.94-2.06 2.06-.94-2.06-.94-.94-2.06-.94 2.06-2.06.94z\"/><path d=\"M17.41 7.96l-1.37-1.37c-.4-.4-.92-.59-1.43-.59-.52 0-1.04.2-1.43.59L10.3 9.45l-7.72 7.72c-.78.78-.78 2.05 0 2.83L4 21.41c.39.39.9.59 1.41.59.51 0 1.02-.2 1.41-.59l7.78-7.78 2.81-2.81c.8-.78.8-2.07 0-2.86zM5.41 20L4 18.59l7.72-7.72 1.47 1.35L5.41 20z\"/>\n",
              "  </svg>\n",
              "      </button>\n",
              "      \n",
              "  <style>\n",
              "    .colab-df-container {\n",
              "      display:flex;\n",
              "      flex-wrap:wrap;\n",
              "      gap: 12px;\n",
              "    }\n",
              "\n",
              "    .colab-df-convert {\n",
              "      background-color: #E8F0FE;\n",
              "      border: none;\n",
              "      border-radius: 50%;\n",
              "      cursor: pointer;\n",
              "      display: none;\n",
              "      fill: #1967D2;\n",
              "      height: 32px;\n",
              "      padding: 0 0 0 0;\n",
              "      width: 32px;\n",
              "    }\n",
              "\n",
              "    .colab-df-convert:hover {\n",
              "      background-color: #E2EBFA;\n",
              "      box-shadow: 0px 1px 2px rgba(60, 64, 67, 0.3), 0px 1px 3px 1px rgba(60, 64, 67, 0.15);\n",
              "      fill: #174EA6;\n",
              "    }\n",
              "\n",
              "    [theme=dark] .colab-df-convert {\n",
              "      background-color: #3B4455;\n",
              "      fill: #D2E3FC;\n",
              "    }\n",
              "\n",
              "    [theme=dark] .colab-df-convert:hover {\n",
              "      background-color: #434B5C;\n",
              "      box-shadow: 0px 1px 3px 1px rgba(0, 0, 0, 0.15);\n",
              "      filter: drop-shadow(0px 1px 2px rgba(0, 0, 0, 0.3));\n",
              "      fill: #FFFFFF;\n",
              "    }\n",
              "  </style>\n",
              "\n",
              "      <script>\n",
              "        const buttonEl =\n",
              "          document.querySelector('#df-a1d7f44e-9d84-4c64-b861-e52760e344f8 button.colab-df-convert');\n",
              "        buttonEl.style.display =\n",
              "          google.colab.kernel.accessAllowed ? 'block' : 'none';\n",
              "\n",
              "        async function convertToInteractive(key) {\n",
              "          const element = document.querySelector('#df-a1d7f44e-9d84-4c64-b861-e52760e344f8');\n",
              "          const dataTable =\n",
              "            await google.colab.kernel.invokeFunction('convertToInteractive',\n",
              "                                                     [key], {});\n",
              "          if (!dataTable) return;\n",
              "\n",
              "          const docLinkHtml = 'Like what you see? Visit the ' +\n",
              "            '<a target=\"_blank\" href=https://colab.research.google.com/notebooks/data_table.ipynb>data table notebook</a>'\n",
              "            + ' to learn more about interactive tables.';\n",
              "          element.innerHTML = '';\n",
              "          dataTable['output_type'] = 'display_data';\n",
              "          await google.colab.output.renderOutput(dataTable, element);\n",
              "          const docLink = document.createElement('div');\n",
              "          docLink.innerHTML = docLinkHtml;\n",
              "          element.appendChild(docLink);\n",
              "        }\n",
              "      </script>\n",
              "    </div>\n",
              "  </div>\n",
              "  "
            ]
          },
          "metadata": {},
          "execution_count": 9
        }
      ],
      "source": [
        "# Dropping irrelevant columns\n",
        "data = data.drop(['Address', 'Customer Id'], axis = 1)\n",
        "\n",
        "# Deleting entries with invalid values\n",
        "data = data.dropna()\n",
        "data"
      ]
    },
    {
      "cell_type": "code",
      "execution_count": null,
      "id": "18f97408",
      "metadata": {
        "colab": {
          "base_uri": "https://localhost:8080/"
        },
        "id": "18f97408",
        "outputId": "0d47d9c9-048d-4030-e611-771079388a9c"
      },
      "outputs": [
        {
          "output_type": "stream",
          "name": "stdout",
          "text": [
            "                 Missing Values  Zero Values  Negative Values\n",
            "Age                           0            0                0\n",
            "Edu                           0            0                0\n",
            "Years Employed                0           62                0\n",
            "Income                        0            0                0\n",
            "Card Debt                     0            0                0\n",
            "Other Debt                    0            0                0\n",
            "Defaulted                     0          517                0\n",
            "DebtIncomeRatio               0            0                0\n"
          ]
        }
      ],
      "source": [
        "X = data\n",
        "#Checking for missing, negative, or invalid values\n",
        "missing_values = X.isnull().sum()\n",
        "zero_values = (X == 0).sum()\n",
        "negative_values = (X < 0).sum()\n",
        "invalid_values = pd.concat([missing_values, zero_values, negative_values], axis=1)\n",
        "invalid_values.columns = ['Missing Values', 'Zero Values', 'Negative Values']\n",
        "print(invalid_values)"
      ]
    },
    {
      "cell_type": "code",
      "execution_count": null,
      "id": "dae041f0",
      "metadata": {
        "id": "dae041f0"
      },
      "outputs": [],
      "source": [
        "# Preprocessing the data to have mean 0 and variance 1\n",
        "scaler = StandardScaler()\n",
        "X_scaled = scaler.fit_transform(X)"
      ]
    },
    {
      "cell_type": "code",
      "execution_count": null,
      "id": "3ebeca09",
      "metadata": {
        "colab": {
          "base_uri": "https://localhost:8080/",
          "height": 472
        },
        "id": "3ebeca09",
        "outputId": "fcb9e8fb-536d-4ed6-80cf-1d5c7700f225"
      },
      "outputs": [
        {
          "output_type": "display_data",
          "data": {
            "text/plain": [
              "<Figure size 640x480 with 1 Axes>"
            ],
            "image/png": "[encoded data removed]"
          },
          "metadata": {}
        }
      ],
      "source": [
        "#Implementing Elbow method to find optimal clusters\n",
        "wcss = []\n",
        "\n",
        "for k in range(1, 30):\n",
        "    kmeans = KMeans(n_clusters=k, n_init=10)\n",
        "    kmeans.fit(X_scaled)\n",
        "    wcss.append(kmeans.inertia_)\n",
        "\n",
        "plt.plot(range(1, 30), wcss)\n",
        "plt.xlabel('Number of Clusters (k)')\n",
        "plt.ylabel('WCSS')\n",
        "plt.title('Elbow Method')\n",
        "plt.show()\n"
      ]
    },
    {
      "cell_type": "markdown",
      "id": "5ec629d9",
      "metadata": {
        "id": "5ec629d9"
      },
      "source": [
        "The slope seems to be going steep on some value betweeen 1-5. We can check for exact values by iterating for the appropriate range"
      ]
    },
    {
      "cell_type": "code",
      "execution_count": null,
      "id": "656f3201",
      "metadata": {
        "colab": {
          "base_uri": "https://localhost:8080/",
          "height": 472
        },
        "id": "656f3201",
        "outputId": "1091a39a-95d8-4edc-d944-211c9c156fb6"
      },
      "outputs": [
        {
          "output_type": "display_data",
          "data": {
            "text/plain": [
              "<Figure size 640x480 with 1 Axes>"
            ],
            "image/png": "[encoded data removed]"
          },
          "metadata": {}
        }
      ],
      "source": [
        "wcss = []\n",
        "\n",
        "for k in range(1, 6):\n",
        "    kmeans = KMeans(n_clusters=k, n_init=10)\n",
        "    kmeans.fit(X_scaled)\n",
        "    wcss.append(kmeans.inertia_)\n",
        "\n",
        "plt.plot(range(1, 6), wcss)\n",
        "plt.xlabel('Number of Clusters (k)')\n",
        "plt.ylabel('WCSS')\n",
        "plt.title('Elbow Method')\n",
        "plt.show()\n"
      ]
    },
    {
      "cell_type": "markdown",
      "id": "177520b3",
      "metadata": {
        "id": "177520b3"
      },
      "source": [
        "We can keep 2 clusters as relatively optimal"
      ]
    },
    {
      "cell_type": "code",
      "execution_count": null,
      "id": "b26ebd4b",
      "metadata": {
        "colab": {
          "base_uri": "https://localhost:8080/"
        },
        "id": "b26ebd4b",
        "outputId": "79a18f48-0aa2-49f7-cab2-3c3b3b1b0564"
      },
      "outputs": [
        {
          "output_type": "stream",
          "name": "stderr",
          "text": [
            "/usr/local/lib/python3.10/dist-packages/sklearn/cluster/_kmeans.py:870: FutureWarning: The default value of `n_init` will change from 10 to 'auto' in 1.4. Set the value of `n_init` explicitly to suppress the warning\n",
            "  warnings.warn(\n",
            "/usr/local/lib/python3.10/dist-packages/sklearn/cluster/_kmeans.py:870: FutureWarning: The default value of `n_init` will change from 10 to 'auto' in 1.4. Set the value of `n_init` explicitly to suppress the warning\n",
            "  warnings.warn(\n",
            "/usr/local/lib/python3.10/dist-packages/sklearn/cluster/_kmeans.py:870: FutureWarning: The default value of `n_init` will change from 10 to 'auto' in 1.4. Set the value of `n_init` explicitly to suppress the warning\n",
            "  warnings.warn(\n",
            "/usr/local/lib/python3.10/dist-packages/sklearn/cluster/_kmeans.py:870: FutureWarning: The default value of `n_init` will change from 10 to 'auto' in 1.4. Set the value of `n_init` explicitly to suppress the warning\n",
            "  warnings.warn(\n"
          ]
        },
        {
          "output_type": "stream",
          "name": "stdout",
          "text": [
            "Silhouette Score for k = 2 : 0.33496643365707623\n",
            "\n",
            "Silhouette Score for k = 3 : 0.27163714546797385\n",
            "\n",
            "Silhouette Score for k = 4 : 0.2483377629854806\n",
            "\n",
            "Silhouette Score for k = 5 : 0.23165283294737468\n",
            "\n",
            "Silhouette Score for k = 6 : 0.23818469391126096\n",
            "\n"
          ]
        },
        {
          "output_type": "stream",
          "name": "stderr",
          "text": [
            "/usr/local/lib/python3.10/dist-packages/sklearn/cluster/_kmeans.py:870: FutureWarning: The default value of `n_init` will change from 10 to 'auto' in 1.4. Set the value of `n_init` explicitly to suppress the warning\n",
            "  warnings.warn(\n",
            "/usr/local/lib/python3.10/dist-packages/sklearn/cluster/_kmeans.py:870: FutureWarning: The default value of `n_init` will change from 10 to 'auto' in 1.4. Set the value of `n_init` explicitly to suppress the warning\n",
            "  warnings.warn(\n"
          ]
        },
        {
          "output_type": "stream",
          "name": "stdout",
          "text": [
            "Silhouette Score for k = 7 : 0.21813115830590124\n",
            "\n",
            "Silhouette Score for k = 8 : 0.22896676497053428\n",
            "\n"
          ]
        },
        {
          "output_type": "stream",
          "name": "stderr",
          "text": [
            "/usr/local/lib/python3.10/dist-packages/sklearn/cluster/_kmeans.py:870: FutureWarning: The default value of `n_init` will change from 10 to 'auto' in 1.4. Set the value of `n_init` explicitly to suppress the warning\n",
            "  warnings.warn(\n",
            "/usr/local/lib/python3.10/dist-packages/sklearn/cluster/_kmeans.py:870: FutureWarning: The default value of `n_init` will change from 10 to 'auto' in 1.4. Set the value of `n_init` explicitly to suppress the warning\n",
            "  warnings.warn(\n"
          ]
        },
        {
          "output_type": "stream",
          "name": "stdout",
          "text": [
            "Silhouette Score for k = 9 : 0.21008972038558305\n",
            "\n",
            "Silhouette Score for k = 10 : 0.19420647416896547\n",
            "\n"
          ]
        },
        {
          "output_type": "stream",
          "name": "stderr",
          "text": [
            "/usr/local/lib/python3.10/dist-packages/sklearn/cluster/_kmeans.py:870: FutureWarning: The default value of `n_init` will change from 10 to 'auto' in 1.4. Set the value of `n_init` explicitly to suppress the warning\n",
            "  warnings.warn(\n",
            "/usr/local/lib/python3.10/dist-packages/sklearn/cluster/_kmeans.py:870: FutureWarning: The default value of `n_init` will change from 10 to 'auto' in 1.4. Set the value of `n_init` explicitly to suppress the warning\n",
            "  warnings.warn(\n"
          ]
        },
        {
          "output_type": "stream",
          "name": "stdout",
          "text": [
            "Silhouette Score for k = 11 : 0.20187557594760602\n",
            "\n",
            "Silhouette Score for k = 12 : 0.20149820853913492\n",
            "\n"
          ]
        },
        {
          "output_type": "stream",
          "name": "stderr",
          "text": [
            "/usr/local/lib/python3.10/dist-packages/sklearn/cluster/_kmeans.py:870: FutureWarning: The default value of `n_init` will change from 10 to 'auto' in 1.4. Set the value of `n_init` explicitly to suppress the warning\n",
            "  warnings.warn(\n",
            "/usr/local/lib/python3.10/dist-packages/sklearn/cluster/_kmeans.py:870: FutureWarning: The default value of `n_init` will change from 10 to 'auto' in 1.4. Set the value of `n_init` explicitly to suppress the warning\n",
            "  warnings.warn(\n"
          ]
        },
        {
          "output_type": "stream",
          "name": "stdout",
          "text": [
            "Silhouette Score for k = 13 : 0.19644288307887775\n",
            "\n",
            "Silhouette Score for k = 14 : 0.20275366172650405\n",
            "\n"
          ]
        },
        {
          "output_type": "stream",
          "name": "stderr",
          "text": [
            "/usr/local/lib/python3.10/dist-packages/sklearn/cluster/_kmeans.py:870: FutureWarning: The default value of `n_init` will change from 10 to 'auto' in 1.4. Set the value of `n_init` explicitly to suppress the warning\n",
            "  warnings.warn(\n",
            "/usr/local/lib/python3.10/dist-packages/sklearn/cluster/_kmeans.py:870: FutureWarning: The default value of `n_init` will change from 10 to 'auto' in 1.4. Set the value of `n_init` explicitly to suppress the warning\n",
            "  warnings.warn(\n"
          ]
        },
        {
          "output_type": "stream",
          "name": "stdout",
          "text": [
            "Silhouette Score for k = 15 : 0.19348883817745544\n",
            "\n",
            "Silhouette Score for k = 16 : 0.19483268704139192\n",
            "\n"
          ]
        },
        {
          "output_type": "stream",
          "name": "stderr",
          "text": [
            "/usr/local/lib/python3.10/dist-packages/sklearn/cluster/_kmeans.py:870: FutureWarning: The default value of `n_init` will change from 10 to 'auto' in 1.4. Set the value of `n_init` explicitly to suppress the warning\n",
            "  warnings.warn(\n",
            "/usr/local/lib/python3.10/dist-packages/sklearn/cluster/_kmeans.py:870: FutureWarning: The default value of `n_init` will change from 10 to 'auto' in 1.4. Set the value of `n_init` explicitly to suppress the warning\n",
            "  warnings.warn(\n"
          ]
        },
        {
          "output_type": "stream",
          "name": "stdout",
          "text": [
            "Silhouette Score for k = 17 : 0.1942640377206834\n",
            "\n",
            "Silhouette Score for k = 18 : 0.19097553456258\n",
            "\n"
          ]
        },
        {
          "output_type": "stream",
          "name": "stderr",
          "text": [
            "/usr/local/lib/python3.10/dist-packages/sklearn/cluster/_kmeans.py:870: FutureWarning: The default value of `n_init` will change from 10 to 'auto' in 1.4. Set the value of `n_init` explicitly to suppress the warning\n",
            "  warnings.warn(\n",
            "/usr/local/lib/python3.10/dist-packages/sklearn/cluster/_kmeans.py:870: FutureWarning: The default value of `n_init` will change from 10 to 'auto' in 1.4. Set the value of `n_init` explicitly to suppress the warning\n",
            "  warnings.warn(\n"
          ]
        },
        {
          "output_type": "stream",
          "name": "stdout",
          "text": [
            "Silhouette Score for k = 19 : 0.1916525142618968\n",
            "\n",
            "Silhouette Score for k = 20 : 0.19222069353335267\n",
            "\n"
          ]
        },
        {
          "output_type": "stream",
          "name": "stderr",
          "text": [
            "/usr/local/lib/python3.10/dist-packages/sklearn/cluster/_kmeans.py:870: FutureWarning: The default value of `n_init` will change from 10 to 'auto' in 1.4. Set the value of `n_init` explicitly to suppress the warning\n",
            "  warnings.warn(\n",
            "/usr/local/lib/python3.10/dist-packages/sklearn/cluster/_kmeans.py:870: FutureWarning: The default value of `n_init` will change from 10 to 'auto' in 1.4. Set the value of `n_init` explicitly to suppress the warning\n",
            "  warnings.warn(\n"
          ]
        },
        {
          "output_type": "stream",
          "name": "stdout",
          "text": [
            "Silhouette Score for k = 21 : 0.17854600371111215\n",
            "\n",
            "Silhouette Score for k = 22 : 0.19715384450352572\n",
            "\n"
          ]
        },
        {
          "output_type": "stream",
          "name": "stderr",
          "text": [
            "/usr/local/lib/python3.10/dist-packages/sklearn/cluster/_kmeans.py:870: FutureWarning: The default value of `n_init` will change from 10 to 'auto' in 1.4. Set the value of `n_init` explicitly to suppress the warning\n",
            "  warnings.warn(\n",
            "/usr/local/lib/python3.10/dist-packages/sklearn/cluster/_kmeans.py:870: FutureWarning: The default value of `n_init` will change from 10 to 'auto' in 1.4. Set the value of `n_init` explicitly to suppress the warning\n",
            "  warnings.warn(\n"
          ]
        },
        {
          "output_type": "stream",
          "name": "stdout",
          "text": [
            "Silhouette Score for k = 23 : 0.1885312468267092\n",
            "\n",
            "Silhouette Score for k = 24 : 0.17616846222569962\n",
            "\n"
          ]
        },
        {
          "output_type": "stream",
          "name": "stderr",
          "text": [
            "/usr/local/lib/python3.10/dist-packages/sklearn/cluster/_kmeans.py:870: FutureWarning: The default value of `n_init` will change from 10 to 'auto' in 1.4. Set the value of `n_init` explicitly to suppress the warning\n",
            "  warnings.warn(\n",
            "/usr/local/lib/python3.10/dist-packages/sklearn/cluster/_kmeans.py:870: FutureWarning: The default value of `n_init` will change from 10 to 'auto' in 1.4. Set the value of `n_init` explicitly to suppress the warning\n",
            "  warnings.warn(\n"
          ]
        },
        {
          "output_type": "stream",
          "name": "stdout",
          "text": [
            "Silhouette Score for k = 25 : 0.18393198046868645\n",
            "\n"
          ]
        },
        {
          "output_type": "stream",
          "name": "stderr",
          "text": [
            "/usr/local/lib/python3.10/dist-packages/sklearn/cluster/_kmeans.py:870: FutureWarning: The default value of `n_init` will change from 10 to 'auto' in 1.4. Set the value of `n_init` explicitly to suppress the warning\n",
            "  warnings.warn(\n"
          ]
        },
        {
          "output_type": "stream",
          "name": "stdout",
          "text": [
            "Silhouette Score for k = 26 : 0.19535598443289287\n",
            "\n",
            "Silhouette Score for k ="
          ]
        },
        {
          "output_type": "stream",
          "name": "stderr",
          "text": [
            "/usr/local/lib/python3.10/dist-packages/sklearn/cluster/_kmeans.py:870: FutureWarning: The default value of `n_init` will change from 10 to 'auto' in 1.4. Set the value of `n_init` explicitly to suppress the warning\n",
            "  warnings.warn(\n"
          ]
        },
        {
          "output_type": "stream",
          "name": "stdout",
          "text": [
            " 27 : 0.19300145931575302\n",
            "\n"
          ]
        },
        {
          "output_type": "stream",
          "name": "stderr",
          "text": [
            "/usr/local/lib/python3.10/dist-packages/sklearn/cluster/_kmeans.py:870: FutureWarning: The default value of `n_init` will change from 10 to 'auto' in 1.4. Set the value of `n_init` explicitly to suppress the warning\n",
            "  warnings.warn(\n",
            "/usr/local/lib/python3.10/dist-packages/sklearn/cluster/_kmeans.py:870: FutureWarning: The default value of `n_init` will change from 10 to 'auto' in 1.4. Set the value of `n_init` explicitly to suppress the warning\n",
            "  warnings.warn(\n"
          ]
        },
        {
          "output_type": "stream",
          "name": "stdout",
          "text": [
            "Silhouette Score for k = 28 : 0.18993802259362788\n",
            "\n",
            "Silhouette Score for k = 29 : 0.1860260044219523\n",
            "\n"
          ]
        },
        {
          "output_type": "stream",
          "name": "stderr",
          "text": [
            "/usr/local/lib/python3.10/dist-packages/sklearn/cluster/_kmeans.py:870: FutureWarning: The default value of `n_init` will change from 10 to 'auto' in 1.4. Set the value of `n_init` explicitly to suppress the warning\n",
            "  warnings.warn(\n"
          ]
        },
        {
          "output_type": "stream",
          "name": "stdout",
          "text": [
            "Silhouette Score for k = 30 : 0.18745272430183615\n",
            "\n"
          ]
        }
      ],
      "source": [
        "# Obtaining the ideal number of clusters using silhoutte scores as an alternative.\n",
        "\n",
        "silhouette_scores = []\n",
        "\n",
        "k_values = range(2,31)\n",
        "\n",
        "for k in range(2,31):\n",
        "    kmeans = KMeans(n_clusters=k)\n",
        "    kmeans.fit(X_scaled)\n",
        "\n",
        "    labels = kmeans.labels_\n",
        "\n",
        "    sse = kmeans.inertia_\n",
        "\n",
        "    silhouette_avg = silhouette_score(X_scaled, labels)\n",
        "\n",
        "    silhouette_scores.append(silhouette_avg)\n",
        "\n",
        "    print(\"Silhouette Score for k =\", k, \":\", silhouette_avg)\n",
        "    print()"
      ]
    },
    {
      "cell_type": "code",
      "execution_count": null,
      "id": "50ac468a",
      "metadata": {
        "colab": {
          "base_uri": "https://localhost:8080/",
          "height": 472
        },
        "id": "50ac468a",
        "outputId": "bc3f7a26-0099-4b5a-c82c-b800be495bf2"
      },
      "outputs": [
        {
          "output_type": "display_data",
          "data": {
            "text/plain": [
              "<Figure size 640x480 with 1 Axes>"
            ],
            "image/png": "[encoded data removed]"
          },
          "metadata": {}
        }
      ],
      "source": [
        "# Plotting the Silhouette Scores\n",
        "plt.plot(k_values, silhouette_scores, marker='o')\n",
        "plt.xlabel(\"Number of Clusters (k)\")\n",
        "plt.ylabel(\"Silhouette Score\")\n",
        "plt.title(\"Silhouette Score vs. Number of Clusters\")\n",
        "plt.show()\n"
      ]
    },
    {
      "cell_type": "code",
      "execution_count": null,
      "id": "19056dda",
      "metadata": {
        "colab": {
          "base_uri": "https://localhost:8080/"
        },
        "id": "19056dda",
        "outputId": "2218f1e7-678b-4940-f919-796584334e2c"
      },
      "outputs": [
        {
          "output_type": "stream",
          "name": "stderr",
          "text": [
            "/usr/local/lib/python3.10/dist-packages/sklearn/cluster/_kmeans.py:870: FutureWarning: The default value of `n_init` will change from 10 to 'auto' in 1.4. Set the value of `n_init` explicitly to suppress the warning\n",
            "  warnings.warn(\n"
          ]
        },
        {
          "output_type": "stream",
          "name": "stdout",
          "text": [
            "Labels:  [1 0 0 1 0 1 1 0 0 1 1 1 1 1 1 0 0 0 1 1 1 0 0 1 1 1 1 1 1 0 1 0 1 1 1 0 0\n",
            " 1 0 1 1 1 1 1 0 1 0 0 1 1 1 1 1 1 1 1 0 1 1 1 1 0 1 0 0 0 1 1 1 1 1 1 1 1\n",
            " 1 1 1 1 1 1 0 1 1 1 1 1 1 1 1 1 0 1 1 1 1 1 1 1 1 1 1 1 1 1 1 1 1 1 1 0 1\n",
            " 1 1 0 1 1 1 1 1 1 1 0 0 1 0 0 1 1 1 1 1 1 1 1 0 1 1 1 1 0 1 1 1 0 1 1 1 0\n",
            " 1 0 1 1 0 1 1 1 0 0 1 0 1 1 0 1 0 0 1 1 1 1 1 0 1 1 0 1 1 1 1 0 1 1 0 1 1\n",
            " 0 0 1 1 0 1 1 1 1 1 0 1 1 1 1 1 0 0 1 1 1 1 0 1 0 1 0 1 1 1 1 1 1 1 0 1 1\n",
            " 0 1 0 0 1 1 0 1 1 0 1 1 1 1 1 0 1 1 1 1 1 1 0 1 1 1 1 1 1 1 1 0 1 0 1 1 1\n",
            " 1 1 0 1 0 1 1 1 1 1 0 1 1 1 1 0 1 1 1 1 1 0 1 1 1 1 1 0 1 1 0 1 1 1 1 1 1\n",
            " 0 0 1 1 1 0 1 1 1 1 1 1 1 1 1 0 1 0 1 1 1 1 0 1 0 1 0 1 1 1 1 1 1 0 1 0 1\n",
            " 1 1 1 1 1 1 0 1 0 1 0 1 1 1 1 0 1 1 0 1 1 1 0 1 1 1 1 0 1 1 1 1 1 0 1 1 1\n",
            " 0 1 1 1 0 1 0 1 1 1 1 1 1 1 0 0 1 0 1 1 1 1 1 1 1 1 1 1 1 0 0 1 1 1 0 1 1\n",
            " 1 1 0 1 1 1 1 1 1 1 0 1 1 1 1 0 1 1 1 1 0 0 1 1 1 1 1 1 1 1 0 1 1 1 1 0 1\n",
            " 1 1 1 1 1 1 0 1 0 1 0 1 1 1 1 1 0 1 1 1 0 1 1 0 1 1 1 1 1 1 1 0 0 1 1 1 0\n",
            " 1 1 1 0 0 1 1 1 1 1 1 1 0 1 0 1 1 1 1 1 1 1 1 0 1 1 1 0 1 1 1 1 1 1 0 1 1\n",
            " 1 1 0 1 0 1 1 0 1 0 0 1 1 1 1 1 0 0 1 0 0 1 1 0 1 1 1 1 1 1 0 1 0 1 1 0 1\n",
            " 1 1 1 1 1 1 1 1 1 1 1 1 1 1 0 1 0 1 1 1 1 1 1 1 1 1 1 0 1 0 1 0 0 1 1 1 0\n",
            " 1 0 1 1 1 0 1 1 1 0 0 1 1 1 1 1 1 1 1 1 1 1 0 1 1 1 1 1 1 1 1 1 0 0 1 1 1\n",
            " 1 1 1 1 1 1 1 1 1 1 1 1 1 1 1 1 1 0 1 1 1 1 1 0 0 1 1 1 1 1 1 0 1 1 1 1 1\n",
            " 0 1 1 1 1 1 1 1 0 1 1 1 0 1 1 1 0 1 1 1 1 1 1 1 1 1 1 1 1 1 1 1 1 0]\n",
            "Silhouette Score:  0.33496643365707623\n"
          ]
        }
      ],
      "source": [
        "# Again we got optimal clusters as 2, and so we can apply k-means to 2 clusters\n",
        "kmeans = KMeans(n_clusters=2)\n",
        "kmeans.fit(X_scaled)\n",
        "labels = kmeans.labels_\n",
        "silhouette_avg = silhouette_score(X_scaled, labels)\n",
        "print(\"Labels: \", labels)\n",
        "print(\"Silhouette Score: \", silhouette_avg)\n"
      ]
    },
    {
      "cell_type": "markdown",
      "id": "6f8fdb4a",
      "metadata": {
        "id": "6f8fdb4a"
      },
      "source": [
        "So, we can conclude that for our reasonable range of 2-30 inclusive, the optimal number of clusters is 2 and we can divide the customers in the dataset into 2 clusters. We can see that while the metrics are relatively optimal, they aren't globally optimal. For example, our silhouette score is low as compared to generally optimal scores of approximately 1. This can happen due to multiple reasons mostly being:\n",
        "1. Overlapping or poorly separated clusters: If the clusters in the data are overlapping or not well separated, it becomes challenging for the silhouette coefficient to assign data points to the correct clusters. This can result in lower silhouette scores among other metrics.\n",
        "2. If the cluster sizes are imbalanced, the seperation scores becomes low leading to poor performance of the algorithm.\n",
        "3. If the data is noisy, clusters can be hard to seperate leading to impure clusters. That is, having significant data points of other clusters in a cluster. That can potentially lead to poor clustering leading to a poor performance\n",
        "\n",
        "We can use the Expectation–maximization algorithm (EM Algorithm) to cluster the dataset. The algorithm is shown to have good results for overlapping datasets and datasets with unequal cluster sizes."
      ]
    },
    {
      "cell_type": "code",
      "execution_count": null,
      "id": "24d9d4f7",
      "metadata": {
        "colab": {
          "base_uri": "https://localhost:8080/",
          "height": 472
        },
        "id": "24d9d4f7",
        "outputId": "01a034af-2db9-444c-9cdc-a2e96859371a"
      },
      "outputs": [
        {
          "output_type": "display_data",
          "data": {
            "text/plain": [
              "<Figure size 640x480 with 1 Axes>"
            ],
            "image/png": "[encoded data removed]"
          },
          "metadata": {}
        }
      ],
      "source": [
        "bic_scores = []\n",
        "\n",
        "num_components_range = range(1, 31)\n",
        "\n",
        "for n_components in num_components_range:\n",
        "    gmm = GaussianMixture(n_components=n_components)\n",
        "    gmm.fit(X_scaled)\n",
        "\n",
        "    bic_scores.append(gmm.bic(X_scaled))\n",
        "\n",
        "# Plotting the BIC scores\n",
        "plt.plot(num_components_range, bic_scores, marker='o')\n",
        "plt.xlabel(\"Number of Components\")\n",
        "plt.ylabel(\"BIC Score\")\n",
        "plt.title(\"Elbow Method for Optimal Number of Components\")\n",
        "plt.show()\n"
      ]
    },
    {
      "cell_type": "markdown",
      "id": "be07da91",
      "metadata": {
        "id": "be07da91"
      },
      "source": [
        "Again, the optimal number of clusters seems to be 2. So, we can apply the algorithm for 2 clusters."
      ]
    },
    {
      "cell_type": "code",
      "execution_count": null,
      "id": "c33e616a",
      "metadata": {
        "colab": {
          "base_uri": "https://localhost:8080/"
        },
        "id": "c33e616a",
        "outputId": "ac4a913e-5a52-4e0a-e65b-2f29798324c4"
      },
      "outputs": [
        {
          "output_type": "stream",
          "name": "stdout",
          "text": [
            "Labels: [0 1 1 0 1 1 1 1 1 0 0 0 0 0 1 1 1 1 0 1 0 1 1 0 0 0 0 0 0 1 1 1 0 0 0 1 1\n",
            " 0 1 0 0 0 1 0 1 1 1 1 0 0 1 0 0 0 1 1 1 0 0 0 0 1 1 1 1 1 0 1 1 0 0 0 0 0\n",
            " 0 0 1 0 0 0 1 0 0 1 0 0 0 0 0 0 1 0 0 0 0 0 0 0 0 0 0 0 1 0 0 0 0 0 0 1 0\n",
            " 0 0 1 0 1 0 0 0 0 1 1 1 0 1 1 1 1 0 0 1 0 0 0 1 0 0 1 0 0 0 0 1 1 1 0 0 1\n",
            " 1 1 0 0 1 0 1 0 1 1 0 1 0 0 1 0 1 1 0 0 0 0 0 1 1 0 1 0 0 0 0 1 0 1 1 0 0\n",
            " 1 1 0 0 1 0 0 0 0 1 1 0 0 1 0 0 1 1 0 0 0 0 1 0 1 0 1 0 0 0 0 0 0 0 1 0 0\n",
            " 1 0 1 1 0 1 1 0 0 1 0 0 0 0 0 1 1 0 0 0 0 1 1 1 0 0 0 0 0 0 0 1 0 1 0 0 0\n",
            " 0 1 1 0 1 0 0 0 0 0 1 0 1 1 0 1 0 0 1 0 0 1 0 0 0 0 0 1 0 0 1 1 0 0 1 0 1\n",
            " 1 1 0 0 0 1 0 1 0 0 0 0 0 0 0 1 0 1 0 0 0 0 1 0 1 0 1 0 0 0 0 0 0 1 0 1 0\n",
            " 0 1 0 0 0 0 1 1 1 0 1 0 0 0 0 1 0 0 1 0 0 0 1 0 0 0 0 1 1 0 1 0 0 1 0 0 0\n",
            " 1 0 1 0 1 0 1 1 0 0 0 1 0 0 1 1 1 1 1 0 1 0 0 1 0 1 0 0 0 1 1 0 0 0 1 0 0\n",
            " 0 0 1 0 0 0 0 0 0 1 1 0 0 0 0 1 0 0 0 0 1 1 0 0 0 0 0 1 0 1 1 0 0 0 0 1 0\n",
            " 0 0 0 1 0 0 1 0 1 0 1 0 0 0 1 0 1 0 0 0 1 0 1 1 0 0 0 1 0 0 0 0 1 0 0 0 1\n",
            " 1 0 0 1 1 1 0 1 0 0 0 0 1 0 1 0 0 0 0 0 0 1 1 1 0 0 0 1 0 0 0 0 0 0 1 0 1\n",
            " 0 0 1 0 1 0 0 1 0 1 1 0 0 0 0 0 1 1 0 1 1 0 1 1 0 0 1 0 0 0 0 0 1 0 0 1 0\n",
            " 0 0 1 0 1 0 0 0 1 0 0 0 0 0 1 0 1 0 0 0 0 1 0 0 0 1 0 1 0 1 0 1 1 0 1 0 1\n",
            " 0 1 0 0 0 1 0 0 0 1 1 0 0 0 0 0 0 1 0 1 0 0 1 0 0 0 0 0 0 0 0 1 1 1 0 1 0\n",
            " 1 1 0 0 1 0 0 0 0 1 0 0 0 0 0 0 0 1 0 0 0 0 0 1 1 0 0 0 0 0 0 1 0 0 0 0 0\n",
            " 1 0 0 1 0 0 0 0 1 0 0 0 1 0 0 0 1 0 1 0 0 0 0 0 0 0 1 0 0 0 0 1 0 0]\n",
            "Cluster Centers: [[-0.29212586 -0.12796025 -0.38899158 -0.44013607 -0.38313743 -0.44551741\n",
            "  -0.04424718 -0.26889902]\n",
            " [ 0.53746049  0.23542447  0.71567647  0.80977338  0.70490585  0.8196741\n",
            "   0.08140707  0.49472716]]\n",
            "Cluster Covariances:  [[[ 0.84734257 -0.07460187  0.21349793  0.1046946   0.04773743\n",
            "    0.05347491 -0.12721235 -0.00533368]\n",
            "  [-0.07460187  0.8836654  -0.16018231  0.02303051  0.00787788\n",
            "    0.01602685  0.06028716 -0.01247514]\n",
            "  [ 0.21349793 -0.16018231  0.51349409  0.12143848  0.00295877\n",
            "    0.00612718 -0.24133951 -0.15270586]\n",
            "  [ 0.1046946   0.02303051  0.12143848  0.08212099  0.01813423\n",
            "    0.02149277 -0.0608815  -0.05599102]\n",
            "  [ 0.04773743  0.00787788  0.00295877  0.01813423  0.08478511\n",
            "    0.03562374  0.05022297  0.12863349]\n",
            "  [ 0.05347491  0.01602685  0.00612718  0.02149277  0.03562374\n",
            "    0.09123201  0.02620819  0.16871955]\n",
            "  [-0.12721235  0.06028716 -0.24133951 -0.0608815   0.05022297\n",
            "    0.02620819  0.94999674  0.21616154]\n",
            "  [-0.00533368 -0.01247514 -0.15270586 -0.05599102  0.12863349\n",
            "    0.16871955  0.21616154  0.55347961]]\n",
            "\n",
            " [[ 0.83499592  0.00534857  0.53704274  0.4950556   0.16574824\n",
            "    0.18777039 -0.22440782 -0.35403819]\n",
            "  [ 0.00534857  1.12848849 -0.40161458  0.33126849 -0.01995409\n",
            "    0.14252906  0.18515859 -0.13172461]\n",
            "  [ 0.53704274 -0.40161458  1.10450369  0.64183021  0.36230065\n",
            "    0.23648205 -0.44951444 -0.35410925]\n",
            "  [ 0.4950556   0.33126849  0.64183021  1.67659626  0.70482413\n",
            "    0.6701138  -0.19128156 -0.59139329]\n",
            "  [ 0.16574824 -0.01995409  0.36230065  0.70482413  1.91687006\n",
            "    0.84053479  0.51402654  0.6499983 ]\n",
            "  [ 0.18777039  0.14252906  0.23648205  0.6701138   0.84053479\n",
            "    1.63493227  0.26259493  0.72458207]\n",
            "  [-0.22440782  0.18515859 -0.44951444 -0.19128156  0.51402654\n",
            "    0.26259493  1.08177094  0.64646018]\n",
            "  [-0.35403819 -0.13172461 -0.35410925 -0.59139329  0.6499983\n",
            "    0.72458207  0.64646018  1.44373565]]]\n",
            "Silhouette Score: 0.41466564133819483\n"
          ]
        }
      ],
      "source": [
        "gmm = GaussianMixture(n_components=2)\n",
        "\n",
        "gmm.fit(X_scaled)\n",
        "\n",
        "labels = gmm.predict(X_scaled)\n",
        "\n",
        "cluster_centers = gmm.means_\n",
        "\n",
        "cluster_covariances = gmm.covariances_\n",
        "\n",
        "silhouette_avg = silhouette_score(X, labels)\n",
        "print(\"Labels:\", labels)\n",
        "print(\"Cluster Centers:\", cluster_centers)\n",
        "print(\"Cluster Covariances: \", cluster_covariances)\n",
        "print(\"Silhouette Score:\", silhouette_avg)"
      ]
    },
    {
      "cell_type": "markdown",
      "id": "8741fff8",
      "metadata": {
        "id": "8741fff8"
      },
      "source": [
        "As we can see, we got better silhouette score for EM algorithm as opposed to k-means algorithm relatively and also, the performance in general is also decent with EM algorithm. This indicates that the EM algorithm's probability-based clustering approach, which models the underlying data distribution, is more suitable for our dataset than the distance-based clustering approach of k-means. This can be due to the reasons we mentioned above i.e. overlapping clusters, noisy data, and unequal cluster sizes."
      ]
    }
  ],
  "metadata": {
    "kernelspec": {
      "display_name": "Python 3 (ipykernel)",
      "language": "python",
      "name": "python3"
    },
    "language_info": {
      "codemirror_mode": {
        "name": "ipython",
        "version": 3
      },
      "file_extension": ".py",
      "mimetype": "text/x-python",
      "name": "python",
      "nbconvert_exporter": "python",
      "pygments_lexer": "ipython3",
      "version": "3.10.9"
    },
    "colab": {
      "provenance": [],
      "include_colab_link": true
    }
  },
  "nbformat": 4,
  "nbformat_minor": 5
}